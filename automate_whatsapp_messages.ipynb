{
  "nbformat": 4,
  "nbformat_minor": 0,
  "metadata": {
    "colab": {
      "provenance": [],
      "toc_visible": true,
      "authorship_tag": "ABX9TyPJn6lE/H9yqqfZTvuXHL5D",
      "include_colab_link": true
    },
    "kernelspec": {
      "name": "python3",
      "display_name": "Python 3"
    },
    "language_info": {
      "name": "python"
    }
  },
  "cells": [
    {
      "cell_type": "markdown",
      "metadata": {
        "id": "view-in-github",
        "colab_type": "text"
      },
      "source": [
        "<a href=\"https://colab.research.google.com/github/NOORBAJI55/automate-whatsapp-messages/blob/main/automate_whatsapp_messages.ipynb\" target=\"_parent\"><img src=\"https://colab.research.google.com/assets/colab-badge.svg\" alt=\"Open In Colab\"/></a>"
      ]
    },
    {
      "cell_type": "code",
      "execution_count": null,
      "metadata": {
        "id": "uLmk8TOM8iTW"
      },
      "outputs": [],
      "source": [
        "# Importing the required module\n",
        "import pyautogui as pg\n",
        "import time\n",
        "\n",
        "# Giving Dealy to run program\n",
        "print(\"program will run after 5 second\")\n",
        "time.sleep(5)\n",
        "print(\"running\")\n",
        "\n",
        "# Note : after running the program immediately open whatsapp web then open the persons chat you want to send messages\n",
        "\n",
        "# For loop\n",
        "for i in range(100):\n",
        "    # writing the messages\n",
        "    pg.write(\"I love you\")\n",
        "    time.sleep(0.5)\n",
        "    # Seding the messages by pressing enter\n",
        "    pg.press(\"Enter\")"
      ]
    }
  ]
}